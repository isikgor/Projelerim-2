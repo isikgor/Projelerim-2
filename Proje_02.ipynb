{
  "nbformat": 4,
  "nbformat_minor": 0,
  "metadata": {
    "colab": {
      "name": "Kilometre_Mil.ipynb",
      "provenance": [],
      "authorship_tag": "ABX9TyPKzeYW5llgNEfd9HlCLaql",
      "include_colab_link": true
    },
    "kernelspec": {
      "name": "python3",
      "display_name": "Python 3"
    }
  },
  "cells": [
    {
      "cell_type": "markdown",
      "metadata": {
        "id": "view-in-github",
        "colab_type": "text"
      },
      "source": [
        "<a href=\"https://colab.research.google.com/github/isikgor/hu-bby261-2020/blob/main/Proje_02.ipynb\" target=\"_parent\"><img src=\"https://colab.research.google.com/assets/colab-badge.svg\" alt=\"Open In Colab\"/></a>"
      ]
    },
    {
      "cell_type": "code",
      "metadata": {
        "id": "eKqtk7BNNYDz",
        "outputId": "e137b052-dc2d-4f1e-8c86-769bc6bd7740",
        "colab": {
          "base_uri": "https://localhost:8080/"
        }
      },
      "source": [
        "import logging\n",
        "import numpy\n",
        "import tensorflow as tf\n",
        "\n",
        "\n",
        "\n",
        "logger = tf.get_logger()\n",
        "logger.setLevel(logging.ERROR)\n",
        "\n",
        "KM = numpy.array([1,  3, 5, 7, 11,20, 40,70,100,150 ],  dtype=float)\n",
        "MIL = numpy.array([0.62, 1.8641, 3.1069, 4.3496, 6.83508,12.4274,24.8548,43.496,62.1371,93.2057],  dtype=float)\n",
        "for index,value in enumerate(KM):\n",
        "  print(\"{} KM = {} MIL\".format(value, MIL[index]))\n",
        "l1 = tf.keras.layers.Dense(units=1, input_shape=[1])\n",
        "model = tf.keras.Sequential([l1])\n",
        "model.compile(loss='mean_squared_error', optimizer=tf.keras.optimizers.Adam(0.1))\n",
        "\n",
        "kmHesapla = float(input(\"Çevirmek İstediğiniz Değeri Giriniz: \"))\n",
        "realExactAnswer = kmHesapla * 0.621371\n",
        "print(\"Mil Cinsinden Değeri: {} mile\".format(realExactAnswer))"
      ],
      "execution_count": 3,
      "outputs": [
        {
          "output_type": "stream",
          "text": [
            "1.0 KM = 0.62 MIL\n",
            "3.0 KM = 1.8641 MIL\n",
            "5.0 KM = 3.1069 MIL\n",
            "7.0 KM = 4.3496 MIL\n",
            "11.0 KM = 6.83508 MIL\n",
            "20.0 KM = 12.4274 MIL\n",
            "40.0 KM = 24.8548 MIL\n",
            "70.0 KM = 43.496 MIL\n",
            "100.0 KM = 62.1371 MIL\n",
            "150.0 KM = 93.2057 MIL\n",
            "Çevirmek İstediğiniz Değeri Giriniz: 12\n",
            "Mil Cinsinden Değeri: 7.4564520000000005 mile\n"
          ],
          "name": "stdout"
        }
      ]
    }
  ]
}