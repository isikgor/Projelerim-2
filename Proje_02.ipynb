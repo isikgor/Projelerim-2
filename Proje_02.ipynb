{
  "nbformat": 4,
  "nbformat_minor": 0,
  "metadata": {
    "colab": {
      "name": "Kilometre_Mil.ipynb",
      "provenance": [],
      "authorship_tag": "ABX9TyN1vtBDU90Ue/WOJswPSNRc",
      "include_colab_link": true
    },
    "kernelspec": {
      "name": "python3",
      "display_name": "Python 3"
    }
  },
  "cells": [
    {
      "cell_type": "markdown",
      "metadata": {
        "id": "view-in-github",
        "colab_type": "text"
      },
      "source": [
        "<a href=\"https://colab.research.google.com/github/isikgor/hu-bby261-2020/blob/main/Proje_02.ipynb\" target=\"_parent\"><img src=\"https://colab.research.google.com/assets/colab-badge.svg\" alt=\"Open In Colab\"/></a>"
      ]
    },
    {
      "cell_type": "code",
      "metadata": {
        "id": "eKqtk7BNNYDz"
      },
      "source": [
        "import logging\n",
        "import numpy\n",
        "import tensorflow as tf\n",
        "import matplotlib.pyplot as plot\n",
        "\n",
        "\n",
        "\n",
        "logger = tf.get_logger()\n",
        "logger.setLevel(logging.ERROR)\n",
        "\n",
        "KM = numpy.array([1,  3, 5, 7, 11,20, 40,70,100,150 ],  dtype=float)\n",
        "MIL = numpy.array([0.62, 1.8641, 3.1069, 4.3496, 6.83508,12.4274,24.8548,43.496,62.1371,93.2057],  dtype=float)\n",
        "for index,value in enumerate(KM):\n",
        "  print(\"{} KM = {} MIL\".format(value, MIL[index]))\n",
        "l1 = tf.keras.layers.Dense(units=1, input_shape=[1])\n",
        "model = tf.keras.Sequential([l1])\n",
        "model.compile(loss='mean_squared_error', optimizer=tf.keras.optimizers.Adam(0.1))\n",
        "\n",
        "kmHesapla = float(input(\"Çevirmek İstediğiniz Değeri Giriniz: \"))\n",
        "realExactAnswer = kmHesapla * 0.621371\n",
        "print(\"Mil Cinsinden Değeri: {} mile\".format(realExactAnswer))\n",
        "\n",
        "trainingTimes = 80\n",
        "\n",
        "print(format(trainingTimes))  \n",
        "history= model.fit(KM, MIL, epochs=trainingTimes, verbose=False)\n",
        "predictedValue = model.predict([kmHesapla])\n",
        "print(format(predictedValue))\n",
        "plot.xlabel('epoch number')\n",
        "plot.ylabel('loss magnitude')\n",
        "\n",
        "plot.plot(history.history['loss'])\n",
        "print(format(l1.get_weights()))"
      ],
      "execution_count": null,
      "outputs": []
    }
  ]
}