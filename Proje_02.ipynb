{
  "nbformat": 4,
  "nbformat_minor": 0,
  "metadata": {
    "colab": {
      "name": "Proje 02.ipynb",
      "provenance": [],
      "collapsed_sections": [],
      "authorship_tag": "ABX9TyM8/uCnPfremihamL61EK7B",
      "include_colab_link": true
    },
    "kernelspec": {
      "name": "python3",
      "display_name": "Python 3"
    }
  },
  "cells": [
    {
      "cell_type": "markdown",
      "metadata": {
        "id": "view-in-github",
        "colab_type": "text"
      },
      "source": [
        "<a href=\"https://colab.research.google.com/github/isikgor/hu-bby261-2020/blob/main/Proje_02.ipynb\" target=\"_parent\"><img src=\"https://colab.research.google.com/assets/colab-badge.svg\" alt=\"Open In Colab\"/></a>"
      ]
    },
    {
      "cell_type": "code",
      "metadata": {
        "id": "EnTcPA6O5bCv",
        "outputId": "4a7c8db6-e96b-4b31-dae4-60d366fe8e89",
        "colab": {
          "base_uri": "https://localhost:8080/",
          "height": 415
        }
      },
      "source": [
        "import tensorflow as tf\n",
        "import numpy as np\n",
        "import logging\n",
        "import matplotlib.pyplot as plt\n",
        "\n",
        "logger = tf.get_logger()\n",
        "logger.setLevel(logging.ERROR)\n",
        "\n",
        "mil = np.array([1, 10, 20, 39, 45, 52, 115], dtype= float)\n",
        "km = np.array([1.60, 16.0, 32.18 ,62.76, 72.42, 85.29, 185.07], dtype= float)\n",
        "\n",
        "def km_to_mil():\n",
        "    l0 = tf.keras.layers.Dense(units=1, input_shape=[1])\n",
        "    model = tf.keras.Sequential([l0])\n",
        "    model.compile(loss='mean_squared_error', optimizer=tf.keras.optimizers.Adam(0.1))\n",
        "\n",
        "    deger = int(input(\"Deger giriniz: \")) \n",
        "    history = model.fit(mil, km, epochs=deger, verbose=False )\n",
        "\n",
        "    plt.xlabel('Deger')\n",
        "    plt.ylabel('Loss')\n",
        "    plt.plot(history.history['loss'])\n",
        "\n",
        "    guessmile = float(input(\"Mil değeri giriniz: \"))\n",
        "    print(\"guess mile: {} mil\". format(model.predict([guessmile])))\n",
        "    print(\"real value: {} mil\". format(guessmile/0.62))\n",
        "\n",
        "def mil_to_km():\n",
        "    l0 = tf.keras.layers.Dense(units=1, input_shape=[1])\n",
        "    model = tf.keras.Sequential([l0])\n",
        "\n",
        "    model.compile(loss='mean_squared_error', optimizer=tf.keras.optimizers.Adam(0.1))\n",
        "\n",
        "    döngüdegeri = int(input(\"Döngü değeri giriniz: \"))\n",
        "    history = model.fit(km, mil, epochs=döngüdegeri, verbose=False )\n",
        "    print(\"Döngü değerini tamamladı..\")\n",
        "\n",
        "    plt.xlabel('Döngü Değeri ')\n",
        "    plt.ylabel('Loss ')\n",
        "    plt.plot(history.history['loss'])\n",
        "\n",
        "    tahminkm = float(input(\"Tahmin için km değeri giriniz: \"))\n",
        "    print(\"guess km: {} km\". format(model.predict([tahminkm])))\n",
        "    print(\"real value: {} km\". format(tahminkm*0.62))\n",
        "\n",
        "\n",
        "def main():\n",
        "  menu = int(input(\"Km -> Mil : 1\\nMil -> Km : 2\\nQuit : 3\\n\"))\n",
        "\n",
        "  if menu == 1:\n",
        "    km_to_mil()\n",
        "  elif menu == 2:\n",
        "    mil_to_km()\n",
        "  else:\n",
        "    exit(0)    \n",
        "\n",
        "main()"
      ],
      "execution_count": 5,
      "outputs": [
        {
          "output_type": "stream",
          "text": [
            "Km -> Mil : 1\n",
            "Mil -> Km : 2\n",
            "Quit : 3\n",
            "1\n",
            "Deger giriniz: 22\n",
            "Mil değeri giriniz: 777\n",
            "guess mile: [[1023.6452]] mil\n",
            "real value: 1253.225806451613 mil\n"
          ],
          "name": "stdout"
        },
        {
          "output_type": "display_data",
          "data": {
            "image/png": "[encoded data removed]",
            "text/plain": [
              "<Figure size 432x288 with 1 Axes>"
            ]
          },
          "metadata": {
            "tags": [],
            "needs_background": "light"
          }
        }
      ]
    }
  ]
}