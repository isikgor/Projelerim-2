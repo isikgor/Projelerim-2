{
  "nbformat": 4,
  "nbformat_minor": 0,
  "metadata": {
    "colab": {
      "name": "Kilometre_Mil.ipynb",
      "provenance": [],
      "authorship_tag": "ABX9TyMg6yg6D9J41zE3fEm9P7Eg",
      "include_colab_link": true
    },
    "kernelspec": {
      "name": "python3",
      "display_name": "Python 3"
    }
  },
  "cells": [
    {
      "cell_type": "markdown",
      "metadata": {
        "id": "view-in-github",
        "colab_type": "text"
      },
      "source": [
        "<a href=\"https://colab.research.google.com/github/isikgor/hu-bby261-2020/blob/main/Kilometre_Mil.ipynb\" target=\"_parent\"><img src=\"https://colab.research.google.com/assets/colab-badge.svg\" alt=\"Open In Colab\"/></a>"
      ]
    },
    {
      "cell_type": "code",
      "metadata": {
        "id": "eKqtk7BNNYDz",
        "outputId": "f67bdcae-7ec1-4347-e3c2-e25bcfc90cd4",
        "colab": {
          "base_uri": "https://localhost:8080/",
          "height": 568
        }
      },
      "source": [
        "import logging\n",
        "import numpy\n",
        "import tensorflow as tf\n",
        "import matplotlib.pyplot as plot\n",
        "\n",
        "\n",
        "\n",
        "logger = tf.get_logger()\n",
        "logger.setLevel(logging.ERROR)\n",
        "\n",
        "KM = numpy.array([0.01, 0.1,  1,  3, 5, 7, 11,20, 40,70,100,150 ],  dtype=float)\n",
        "\n",
        "MIL = numpy.array([0.0062, 0.062,0.62, 1.8641, 3.1069, 4.3496, 6.83508,12.4274,24.8548,43.496,62.1371,93.2057],  dtype=float)\n",
        "for index,value in enumerate(KM):\n",
        "  print(\"{} KM = {} MIL\".format(value, MIL[index]))\n",
        "l1 = tf.keras.layers.Dense(units=1, input_shape=[1])\n",
        "model = tf.keras.Sequential([l1])\n",
        "model.compile(loss='mean_squared_error', optimizer=tf.keras.optimizers.Adam(0.1))\n",
        "\n",
        "kmToCalculate = float(input(\"Çevirmek İstediğiniz Değeri Giriniz: \"))\n",
        "realExactAnswer = kmToCalculate * 0.621371\n",
        "print(\"Mil Cinsinden Değeri: {} mile\".format(realExactAnswer))\n",
        "\n",
        "trainingTimes = 80\n",
        "\n",
        "print(format(trainingTimes))  \n",
        "history= model.fit(KM, MIL, epochs=trainingTimes, verbose=False)\n",
        "predictedValue = model.predict([kmToCalculate])\n",
        "print(format(predictedValue))\n",
        "plot.xlabel('epoch number')\n",
        "plot.ylabel('loss magnitude')\n",
        "\n",
        "plot.plot(history.history['loss'])\n",
        "print(format(l1.get_weights()))"
      ],
      "execution_count": 9,
      "outputs": [
        {
          "output_type": "stream",
          "text": [
            "0.01 KM = 0.0062 MIL\n",
            "0.1 KM = 0.062 MIL\n",
            "1.0 KM = 0.62 MIL\n",
            "3.0 KM = 1.8641 MIL\n",
            "5.0 KM = 3.1069 MIL\n",
            "7.0 KM = 4.3496 MIL\n",
            "11.0 KM = 6.83508 MIL\n",
            "20.0 KM = 12.4274 MIL\n",
            "40.0 KM = 24.8548 MIL\n",
            "70.0 KM = 43.496 MIL\n",
            "100.0 KM = 62.1371 MIL\n",
            "150.0 KM = 93.2057 MIL\n",
            "Çevirmek İstediğiniz Değeri Giriniz: 100000000\n",
            "Mil Cinsinden Değeri: 62137100.0 mile\n",
            "80\n",
            "[[62073370.]]\n",
            "[array([[0.6207337]], dtype=float32), array([1.5166767], dtype=float32)]\n"
          ],
          "name": "stdout"
        },
        {
          "output_type": "display_data",
          "data": {
            "image/png": "[encoded data removed]",
            "text/plain": [
              "<Figure size 432x288 with 1 Axes>"
            ]
          },
          "metadata": {
            "tags": [],
            "needs_background": "light"
          }
        }
      ]
    }
  ]
}