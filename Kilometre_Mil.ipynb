{
  "nbformat": 4,
  "nbformat_minor": 0,
  "metadata": {
    "colab": {
      "name": "Kilometre_Mil.ipynb",
      "provenance": [],
      "authorship_tag": "ABX9TyPhe/OcqoRUw5KzrbH7oqKW",
      "include_colab_link": true
    },
    "kernelspec": {
      "name": "python3",
      "display_name": "Python 3"
    }
  },
  "cells": [
    {
      "cell_type": "markdown",
      "metadata": {
        "id": "view-in-github",
        "colab_type": "text"
      },
      "source": [
        "<a href=\"https://colab.research.google.com/github/isikgor/hu-bby261-2020/blob/main/Kilometre_Mil.ipynb\" target=\"_parent\"><img src=\"https://colab.research.google.com/assets/colab-badge.svg\" alt=\"Open In Colab\"/></a>"
      ]
    },
    {
      "cell_type": "code",
      "metadata": {
        "id": "eKqtk7BNNYDz"
      },
      "source": [
        "kilometremil = 1\n",
        "Milkilometre = 2\n",
        "input(\"kilometreyi mile çevirmek için 1 mili kilometreye çevirmek için 2 ye basınız\")\n",
        "donusumOrani = 0.621371192\n",
        "km = int(input(\"Kaç km?\"))\n",
        "mil = km * donusumOrani\n",
        "print(str(km) +\" Km = \"+str(mil)+\" mil eder\")\n"
      ],
      "execution_count": null,
      "outputs": []
    }
  ]
}