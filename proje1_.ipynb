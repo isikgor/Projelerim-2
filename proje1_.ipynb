{
  "nbformat": 4,
  "nbformat_minor": 0,
  "metadata": {
    "colab": {
      "name": "proje1_.ipynb",
      "provenance": [],
      "authorship_tag": "ABX9TyPBEtBhI3xHMaiZqrz6Btib",
      "include_colab_link": true
    },
    "kernelspec": {
      "name": "python3",
      "display_name": "Python 3"
    }
  },
  "cells": [
    {
      "cell_type": "markdown",
      "metadata": {
        "id": "view-in-github",
        "colab_type": "text"
      },
      "source": [
        "<a href=\"https://colab.research.google.com/github/isikgor/hu-bby261-2020/blob/main/proje1_.ipynb\" target=\"_parent\"><img src=\"https://colab.research.google.com/assets/colab-badge.svg\" alt=\"Open In Colab\"/></a>"
      ]
    },
    {
      "cell_type": "code",
      "metadata": {
        "id": "-1L5_wwmKrs4"
      },
      "source": [
        "import string\n",
        "\n",
        "metin = \"Gereksiz sözcüklerden arınmış, gereksiz ayrıntılara inilmemiş olan paragraflarda özlülük vardır.\"\n",
        "yenimetin = \"\"\n",
        "for i in metin:\n",
        "  if i not in string.punctuation:\n",
        "    yenimetin += i\n",
        "print(yenimetin)\n",
        "\n",
        "kelime = input(\"Arama için kelime girişi yapınız: \")\n",
        "ara = yenimetin.find(kelime)\n",
        "bul = yenimetin.count(kelime)\n",
        "print(bul)\n"
      ],
      "execution_count": null,
      "outputs": []
    }
  ]
}