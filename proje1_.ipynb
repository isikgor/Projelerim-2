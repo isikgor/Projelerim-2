{
  "nbformat": 4,
  "nbformat_minor": 0,
  "metadata": {
    "colab": {
      "name": "proje1_.ipynb",
      "provenance": [],
      "authorship_tag": "ABX9TyPHklgPwJiRueIf5xWI0pnD",
      "include_colab_link": true
    },
    "kernelspec": {
      "name": "python3",
      "display_name": "Python 3"
    }
  },
  "cells": [
    {
      "cell_type": "markdown",
      "metadata": {
        "id": "view-in-github",
        "colab_type": "text"
      },
      "source": [
        "<a href=\"https://colab.research.google.com/github/isikgor/hu-bby261-2020/blob/main/proje1_.ipynb\" target=\"_parent\"><img src=\"https://colab.research.google.com/assets/colab-badge.svg\" alt=\"Open In Colab\"/></a>"
      ]
    },
    {
      "cell_type": "code",
      "metadata": {
        "id": "-1L5_wwmKrs4",
        "outputId": "9bf5767f-e1f2-4c3e-8f3c-f3b35bd2a6e6",
        "colab": {
          "base_uri": "https://localhost:8080/",
          "height": 51
        }
      },
      "source": [
        "Paragraf = \"Gereksiz sözcüklerden arınmış, gereksiz ayrıntılara inilmemiş olan paragraflarda özlülük vardır.\"\n",
        "x = input(\"aranan kelimeyi giriniz\")\n",
        "bul = Paragraf.split()\n",
        "cikan = bul.count(x)\n",
        "print(cikan)"
      ],
      "execution_count": null,
      "outputs": [
        {
          "output_type": "stream",
          "text": [
            "aranan kelimeyi girinizarın\n",
            "0\n"
          ],
          "name": "stdout"
        }
      ]
    }
  ]
}